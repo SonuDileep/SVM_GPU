{
 "cells": [
  {
   "cell_type": "code",
   "execution_count": 1,
   "metadata": {
    "colab": {
     "base_uri": "https://localhost:8080/",
     "height": 102
    },
    "colab_type": "code",
    "id": "PaB9lUjhzwjj",
    "outputId": "5ffb41f2-6e36-47f1-fa45-c579a459c223"
   },
   "outputs": [
    {
     "name": "stdout",
     "output_type": "stream",
     "text": [
      "Requirement already satisfied: thundersvm-cuda10 in /usr/local/lib/python3.6/dist-packages (0.3.5)\n",
      "Requirement already satisfied: scipy in /usr/local/lib/python3.6/dist-packages (from thundersvm-cuda10) (1.4.1)\n",
      "Requirement already satisfied: scikit-learn in /usr/local/lib/python3.6/dist-packages (from thundersvm-cuda10) (0.22.2.post1)\n",
      "Requirement already satisfied: numpy in /usr/local/lib/python3.6/dist-packages (from thundersvm-cuda10) (1.18.2)\n",
      "Requirement already satisfied: joblib>=0.11 in /usr/local/lib/python3.6/dist-packages (from scikit-learn->thundersvm-cuda10) (0.14.1)\n"
     ]
    }
   ],
   "source": [
    "!pip install thundersvm-cuda10 # for cuda10\n",
    "#!pip install thundersvm # for cuda9\n"
   ]
  },
  {
   "cell_type": "code",
   "execution_count": 0,
   "metadata": {
    "colab": {},
    "colab_type": "code",
    "id": "nym7-W__yRwS"
   },
   "outputs": [],
   "source": [
    "from thundersvm import SVC"
   ]
  },
  {
   "cell_type": "code",
   "execution_count": 3,
   "metadata": {
    "colab": {
     "base_uri": "https://localhost:8080/",
     "height": 34
    },
    "colab_type": "code",
    "id": "EPMYR-2rME4v",
    "outputId": "a41dd34f-696e-48e4-d246-2f505dd9d2c7"
   },
   "outputs": [
    {
     "name": "stderr",
     "output_type": "stream",
     "text": [
      "Using TensorFlow backend.\n"
     ]
    }
   ],
   "source": [
    "# Also run the function plot_confusion_matrix defined in the last cell of this notebook\n",
    "import time\n",
    "import numpy as np\n",
    "from keras.datasets import cifar10\n",
    "\n",
    "import matplotlib.pyplot as plt\n",
    "import matplotlib as mpl\n",
    "%matplotlib inline\n",
    "from sklearn.metrics import confusion_matrix, classification_report\n",
    "from sklearn.model_selection import cross_val_score\n",
    "from sklearn.model_selection import GridSearchCV\n",
    "from sklearn.model_selection import cross_validate\n",
    "from sklearn.utils.multiclass import unique_labels"
   ]
  },
  {
   "cell_type": "code",
   "execution_count": 0,
   "metadata": {
    "colab": {},
    "colab_type": "code",
    "id": "wBCDBtQtME60"
   },
   "outputs": [],
   "source": [
    "classesName = ['plane', 'car', 'bird', 'cat', 'deer', 'dog', 'frog', 'horse', 'ship', 'truck']\n",
    "(xTrain, yTrain), (xTest, yTest) = cifar10.load_data()\n",
    "\n",
    "xTrain = xTrain[0:100].astype(np.float) # For testing the model I took only 100 samples.\n",
    "yTrain = np.squeeze(yTrain[0:100])\n",
    "\n",
    "xTest = xTest[0:100].astype(np.float)\n",
    "yTest = np.squeeze(yTest[0:100])\n",
    "\n",
    "xTrain = np.reshape(xTrain, (xTrain.shape[0], -1)) # The -1 means that the corresponding dimension is calculated from the other given dimensions.\n",
    "xTest = np.reshape(xTest, (xTest.shape[0], -1))\n",
    "\n",
    "#Normalize \n",
    "xTrain=((xTrain/255)*2)-1 \n",
    "xTest=((xTest/255)*2)-1 "
   ]
  },
  {
   "cell_type": "code",
   "execution_count": 5,
   "metadata": {
    "colab": {
     "base_uri": "https://localhost:8080/",
     "height": 1000
    },
    "colab_type": "code",
    "id": "T4AFpBAE1ZQ0",
    "outputId": "a4347412-4cd7-4a3a-e425-7d2510e4ce90"
   },
   "outputs": [
    {
     "name": "stdout",
     "output_type": "stream",
     "text": [
      "Fitting 5 folds for each of 18 candidates, totalling 90 fits\n",
      "[CV] C=1, gamma=0.01, kernel=rbf .....................................\n"
     ]
    },
    {
     "name": "stderr",
     "output_type": "stream",
     "text": [
      "/usr/local/lib/python3.6/dist-packages/sklearn/model_selection/_split.py:667: UserWarning: The least populated class in y has only 4 members, which is less than n_splits=5.\n",
      "  % (min_groups, self.n_splits)), UserWarning)\n",
      "[Parallel(n_jobs=1)]: Using backend SequentialBackend with 1 concurrent workers.\n"
     ]
    },
    {
     "name": "stdout",
     "output_type": "stream",
     "text": [
      "[CV] ......... C=1, gamma=0.01, kernel=rbf, score=0.200, total=   2.2s\n",
      "[CV] C=1, gamma=0.01, kernel=rbf .....................................\n"
     ]
    },
    {
     "name": "stderr",
     "output_type": "stream",
     "text": [
      "[Parallel(n_jobs=1)]: Done   1 out of   1 | elapsed:    2.2s remaining:    0.0s\n"
     ]
    },
    {
     "name": "stdout",
     "output_type": "stream",
     "text": [
      "[CV] ......... C=1, gamma=0.01, kernel=rbf, score=0.150, total=   1.8s\n",
      "[CV] C=1, gamma=0.01, kernel=rbf .....................................\n"
     ]
    },
    {
     "name": "stderr",
     "output_type": "stream",
     "text": [
      "[Parallel(n_jobs=1)]: Done   2 out of   2 | elapsed:    4.0s remaining:    0.0s\n"
     ]
    },
    {
     "name": "stdout",
     "output_type": "stream",
     "text": [
      "[CV] ......... C=1, gamma=0.01, kernel=rbf, score=0.150, total=   1.8s\n",
      "[CV] C=1, gamma=0.01, kernel=rbf .....................................\n",
      "[CV] ......... C=1, gamma=0.01, kernel=rbf, score=0.150, total=   1.8s\n",
      "[CV] C=1, gamma=0.01, kernel=rbf .....................................\n",
      "[CV] ......... C=1, gamma=0.01, kernel=rbf, score=0.150, total=   1.9s\n",
      "[CV] C=1, gamma=0.001, kernel=rbf ....................................\n",
      "[CV] ........ C=1, gamma=0.001, kernel=rbf, score=0.300, total=   1.8s\n",
      "[CV] C=1, gamma=0.001, kernel=rbf ....................................\n",
      "[CV] ........ C=1, gamma=0.001, kernel=rbf, score=0.150, total=   1.7s\n",
      "[CV] C=1, gamma=0.001, kernel=rbf ....................................\n",
      "[CV] ........ C=1, gamma=0.001, kernel=rbf, score=0.250, total=   1.8s\n",
      "[CV] C=1, gamma=0.001, kernel=rbf ....................................\n",
      "[CV] ........ C=1, gamma=0.001, kernel=rbf, score=0.200, total=   1.8s\n",
      "[CV] C=1, gamma=0.001, kernel=rbf ....................................\n",
      "[CV] ........ C=1, gamma=0.001, kernel=rbf, score=0.150, total=   1.8s\n",
      "[CV] C=10, gamma=0.01, kernel=rbf ....................................\n",
      "[CV] ........ C=10, gamma=0.01, kernel=rbf, score=0.200, total=   2.5s\n",
      "[CV] C=10, gamma=0.01, kernel=rbf ....................................\n",
      "[CV] ........ C=10, gamma=0.01, kernel=rbf, score=0.150, total=   2.4s\n",
      "[CV] C=10, gamma=0.01, kernel=rbf ....................................\n",
      "[CV] ........ C=10, gamma=0.01, kernel=rbf, score=0.150, total=   2.5s\n",
      "[CV] C=10, gamma=0.01, kernel=rbf ....................................\n",
      "[CV] ........ C=10, gamma=0.01, kernel=rbf, score=0.150, total=   2.5s\n",
      "[CV] C=10, gamma=0.01, kernel=rbf ....................................\n",
      "[CV] ........ C=10, gamma=0.01, kernel=rbf, score=0.150, total=   2.5s\n",
      "[CV] C=10, gamma=0.001, kernel=rbf ...................................\n",
      "[CV] ....... C=10, gamma=0.001, kernel=rbf, score=0.200, total=   2.5s\n",
      "[CV] C=10, gamma=0.001, kernel=rbf ...................................\n",
      "[CV] ....... C=10, gamma=0.001, kernel=rbf, score=0.150, total=   2.4s\n",
      "[CV] C=10, gamma=0.001, kernel=rbf ...................................\n",
      "[CV] ....... C=10, gamma=0.001, kernel=rbf, score=0.250, total=   2.4s\n",
      "[CV] C=10, gamma=0.001, kernel=rbf ...................................\n",
      "[CV] ....... C=10, gamma=0.001, kernel=rbf, score=0.200, total=   2.5s\n",
      "[CV] C=10, gamma=0.001, kernel=rbf ...................................\n",
      "[CV] ....... C=10, gamma=0.001, kernel=rbf, score=0.150, total=   2.5s\n",
      "[CV] C=100, gamma=0.01, kernel=rbf ...................................\n",
      "[CV] ....... C=100, gamma=0.01, kernel=rbf, score=0.200, total=   2.5s\n",
      "[CV] C=100, gamma=0.01, kernel=rbf ...................................\n",
      "[CV] ....... C=100, gamma=0.01, kernel=rbf, score=0.150, total=   2.4s\n",
      "[CV] C=100, gamma=0.01, kernel=rbf ...................................\n",
      "[CV] ....... C=100, gamma=0.01, kernel=rbf, score=0.150, total=   2.5s\n",
      "[CV] C=100, gamma=0.01, kernel=rbf ...................................\n",
      "[CV] ....... C=100, gamma=0.01, kernel=rbf, score=0.150, total=   2.5s\n",
      "[CV] C=100, gamma=0.01, kernel=rbf ...................................\n",
      "[CV] ....... C=100, gamma=0.01, kernel=rbf, score=0.150, total=   2.5s\n",
      "[CV] C=100, gamma=0.001, kernel=rbf ..................................\n",
      "[CV] ...... C=100, gamma=0.001, kernel=rbf, score=0.200, total=   2.5s\n",
      "[CV] C=100, gamma=0.001, kernel=rbf ..................................\n",
      "[CV] ...... C=100, gamma=0.001, kernel=rbf, score=0.150, total=   2.4s\n",
      "[CV] C=100, gamma=0.001, kernel=rbf ..................................\n",
      "[CV] ...... C=100, gamma=0.001, kernel=rbf, score=0.250, total=   2.4s\n",
      "[CV] C=100, gamma=0.001, kernel=rbf ..................................\n",
      "[CV] ...... C=100, gamma=0.001, kernel=rbf, score=0.200, total=   2.5s\n",
      "[CV] C=100, gamma=0.001, kernel=rbf ..................................\n",
      "[CV] ...... C=100, gamma=0.001, kernel=rbf, score=0.150, total=   2.5s\n",
      "[CV] C=0.1, degree=2, kernel=polynomial ..............................\n",
      "[CV] .. C=0.1, degree=2, kernel=polynomial, score=0.100, total=   1.3s\n",
      "[CV] C=0.1, degree=2, kernel=polynomial ..............................\n",
      "[CV] .. C=0.1, degree=2, kernel=polynomial, score=0.150, total=   1.3s\n",
      "[CV] C=0.1, degree=2, kernel=polynomial ..............................\n",
      "[CV] .. C=0.1, degree=2, kernel=polynomial, score=0.150, total=   1.3s\n",
      "[CV] C=0.1, degree=2, kernel=polynomial ..............................\n",
      "[CV] .. C=0.1, degree=2, kernel=polynomial, score=0.150, total=   1.3s\n",
      "[CV] C=0.1, degree=2, kernel=polynomial ..............................\n",
      "[CV] .. C=0.1, degree=2, kernel=polynomial, score=0.100, total=   1.3s\n",
      "[CV] C=0.1, degree=3, kernel=polynomial ..............................\n",
      "[CV] .. C=0.1, degree=3, kernel=polynomial, score=0.100, total=   1.2s\n",
      "[CV] C=0.1, degree=3, kernel=polynomial ..............................\n",
      "[CV] .. C=0.1, degree=3, kernel=polynomial, score=0.150, total=   1.1s\n",
      "[CV] C=0.1, degree=3, kernel=polynomial ..............................\n",
      "[CV] .. C=0.1, degree=3, kernel=polynomial, score=0.150, total=   1.2s\n",
      "[CV] C=0.1, degree=3, kernel=polynomial ..............................\n",
      "[CV] .. C=0.1, degree=3, kernel=polynomial, score=0.150, total=   1.2s\n",
      "[CV] C=0.1, degree=3, kernel=polynomial ..............................\n",
      "[CV] .. C=0.1, degree=3, kernel=polynomial, score=0.100, total=   1.2s\n",
      "[CV] C=0.1, degree=4, kernel=polynomial ..............................\n",
      "[CV] .. C=0.1, degree=4, kernel=polynomial, score=0.100, total=   1.0s\n",
      "[CV] C=0.1, degree=4, kernel=polynomial ..............................\n",
      "[CV] .. C=0.1, degree=4, kernel=polynomial, score=0.150, total=   1.0s\n",
      "[CV] C=0.1, degree=4, kernel=polynomial ..............................\n",
      "[CV] .. C=0.1, degree=4, kernel=polynomial, score=0.150, total=   1.1s\n",
      "[CV] C=0.1, degree=4, kernel=polynomial ..............................\n",
      "[CV] .. C=0.1, degree=4, kernel=polynomial, score=0.150, total=   1.0s\n",
      "[CV] C=0.1, degree=4, kernel=polynomial ..............................\n",
      "[CV] .. C=0.1, degree=4, kernel=polynomial, score=0.150, total=   1.1s\n",
      "[CV] C=1, degree=2, kernel=polynomial ................................\n",
      "[CV] .... C=1, degree=2, kernel=polynomial, score=0.100, total=   1.4s\n",
      "[CV] C=1, degree=2, kernel=polynomial ................................\n",
      "[CV] .... C=1, degree=2, kernel=polynomial, score=0.150, total=   1.4s\n",
      "[CV] C=1, degree=2, kernel=polynomial ................................\n",
      "[CV] .... C=1, degree=2, kernel=polynomial, score=0.150, total=   1.5s\n",
      "[CV] C=1, degree=2, kernel=polynomial ................................\n",
      "[CV] .... C=1, degree=2, kernel=polynomial, score=0.150, total=   1.4s\n",
      "[CV] C=1, degree=2, kernel=polynomial ................................\n",
      "[CV] .... C=1, degree=2, kernel=polynomial, score=0.150, total=   1.5s\n",
      "[CV] C=1, degree=3, kernel=polynomial ................................\n",
      "[CV] .... C=1, degree=3, kernel=polynomial, score=0.100, total=   1.4s\n",
      "[CV] C=1, degree=3, kernel=polynomial ................................\n",
      "[CV] .... C=1, degree=3, kernel=polynomial, score=0.150, total=   1.3s\n",
      "[CV] C=1, degree=3, kernel=polynomial ................................\n",
      "[CV] .... C=1, degree=3, kernel=polynomial, score=0.150, total=   1.4s\n",
      "[CV] C=1, degree=3, kernel=polynomial ................................\n",
      "[CV] .... C=1, degree=3, kernel=polynomial, score=0.150, total=   1.3s\n",
      "[CV] C=1, degree=3, kernel=polynomial ................................\n",
      "[CV] .... C=1, degree=3, kernel=polynomial, score=0.100, total=   1.4s\n",
      "[CV] C=1, degree=4, kernel=polynomial ................................\n",
      "[CV] .... C=1, degree=4, kernel=polynomial, score=0.100, total=   1.3s\n",
      "[CV] C=1, degree=4, kernel=polynomial ................................\n",
      "[CV] .... C=1, degree=4, kernel=polynomial, score=0.150, total=   1.2s\n",
      "[CV] C=1, degree=4, kernel=polynomial ................................\n",
      "[CV] .... C=1, degree=4, kernel=polynomial, score=0.150, total=   1.3s\n",
      "[CV] C=1, degree=4, kernel=polynomial ................................\n",
      "[CV] .... C=1, degree=4, kernel=polynomial, score=0.150, total=   1.3s\n",
      "[CV] C=1, degree=4, kernel=polynomial ................................\n",
      "[CV] .... C=1, degree=4, kernel=polynomial, score=0.100, total=   1.3s\n",
      "[CV] C=10, degree=2, kernel=polynomial ...............................\n",
      "[CV] ... C=10, degree=2, kernel=polynomial, score=0.300, total=   1.7s\n",
      "[CV] C=10, degree=2, kernel=polynomial ...............................\n",
      "[CV] ... C=10, degree=2, kernel=polynomial, score=0.150, total=   1.7s\n",
      "[CV] C=10, degree=2, kernel=polynomial ...............................\n",
      "[CV] ... C=10, degree=2, kernel=polynomial, score=0.150, total=   1.7s\n",
      "[CV] C=10, degree=2, kernel=polynomial ...............................\n",
      "[CV] ... C=10, degree=2, kernel=polynomial, score=0.150, total=   1.7s\n",
      "[CV] C=10, degree=2, kernel=polynomial ...............................\n",
      "[CV] ... C=10, degree=2, kernel=polynomial, score=0.150, total=   1.7s\n",
      "[CV] C=10, degree=3, kernel=polynomial ...............................\n",
      "[CV] ... C=10, degree=3, kernel=polynomial, score=0.050, total=   1.5s\n",
      "[CV] C=10, degree=3, kernel=polynomial ...............................\n",
      "[CV] ... C=10, degree=3, kernel=polynomial, score=0.150, total=   1.5s\n",
      "[CV] C=10, degree=3, kernel=polynomial ...............................\n",
      "[CV] ... C=10, degree=3, kernel=polynomial, score=0.150, total=   1.5s\n",
      "[CV] C=10, degree=3, kernel=polynomial ...............................\n",
      "[CV] ... C=10, degree=3, kernel=polynomial, score=0.150, total=   1.5s\n",
      "[CV] C=10, degree=3, kernel=polynomial ...............................\n",
      "[CV] ... C=10, degree=3, kernel=polynomial, score=0.100, total=   1.5s\n",
      "[CV] C=10, degree=4, kernel=polynomial ...............................\n",
      "[CV] ... C=10, degree=4, kernel=polynomial, score=0.050, total=   1.4s\n",
      "[CV] C=10, degree=4, kernel=polynomial ...............................\n",
      "[CV] ... C=10, degree=4, kernel=polynomial, score=0.150, total=   1.4s\n",
      "[CV] C=10, degree=4, kernel=polynomial ...............................\n",
      "[CV] ... C=10, degree=4, kernel=polynomial, score=0.150, total=   1.4s\n",
      "[CV] C=10, degree=4, kernel=polynomial ...............................\n",
      "[CV] ... C=10, degree=4, kernel=polynomial, score=0.150, total=   1.4s\n",
      "[CV] C=10, degree=4, kernel=polynomial ...............................\n",
      "[CV] ... C=10, degree=4, kernel=polynomial, score=0.100, total=   1.4s\n",
      "[CV] C=100, degree=2, kernel=polynomial ..............................\n",
      "[CV] .. C=100, degree=2, kernel=polynomial, score=0.250, total=   2.3s\n",
      "[CV] C=100, degree=2, kernel=polynomial ..............................\n",
      "[CV] .. C=100, degree=2, kernel=polynomial, score=0.200, total=   2.4s\n",
      "[CV] C=100, degree=2, kernel=polynomial ..............................\n",
      "[CV] .. C=100, degree=2, kernel=polynomial, score=0.150, total=   2.4s\n",
      "[CV] C=100, degree=2, kernel=polynomial ..............................\n",
      "[CV] .. C=100, degree=2, kernel=polynomial, score=0.150, total=   2.4s\n",
      "[CV] C=100, degree=2, kernel=polynomial ..............................\n",
      "[CV] .. C=100, degree=2, kernel=polynomial, score=0.150, total=   2.4s\n",
      "[CV] C=100, degree=3, kernel=polynomial ..............................\n",
      "[CV] .. C=100, degree=3, kernel=polynomial, score=0.250, total=   1.9s\n",
      "[CV] C=100, degree=3, kernel=polynomial ..............................\n",
      "[CV] .. C=100, degree=3, kernel=polynomial, score=0.150, total=   1.9s\n",
      "[CV] C=100, degree=3, kernel=polynomial ..............................\n",
      "[CV] .. C=100, degree=3, kernel=polynomial, score=0.200, total=   2.0s\n",
      "[CV] C=100, degree=3, kernel=polynomial ..............................\n",
      "[CV] .. C=100, degree=3, kernel=polynomial, score=0.200, total=   2.0s\n",
      "[CV] C=100, degree=3, kernel=polynomial ..............................\n",
      "[CV] .. C=100, degree=3, kernel=polynomial, score=0.150, total=   2.0s\n",
      "[CV] C=100, degree=4, kernel=polynomial ..............................\n",
      "[CV] .. C=100, degree=4, kernel=polynomial, score=0.250, total=   1.7s\n",
      "[CV] C=100, degree=4, kernel=polynomial ..............................\n",
      "[CV] .. C=100, degree=4, kernel=polynomial, score=0.150, total=   1.7s\n",
      "[CV] C=100, degree=4, kernel=polynomial ..............................\n",
      "[CV] .. C=100, degree=4, kernel=polynomial, score=0.150, total=   1.7s\n",
      "[CV] C=100, degree=4, kernel=polynomial ..............................\n",
      "[CV] .. C=100, degree=4, kernel=polynomial, score=0.150, total=   1.6s\n",
      "[CV] C=100, degree=4, kernel=polynomial ..............................\n",
      "[CV] .. C=100, degree=4, kernel=polynomial, score=0.150, total=   1.7s\n"
     ]
    },
    {
     "name": "stderr",
     "output_type": "stream",
     "text": [
      "[Parallel(n_jobs=1)]: Done  90 out of  90 | elapsed:  2.6min finished\n"
     ]
    },
    {
     "data": {
      "text/plain": [
       "GridSearchCV(cv=5, error_score=nan,\n",
       "             estimator=SVC(C=1.0, cache_size=None, class_weight=None, coef0=0.0,\n",
       "                           decision_function_shape='ovo', degree=3,\n",
       "                           gamma='auto', gpu_id=0, kernel='rbf', max_iter=-1,\n",
       "                           max_mem_size=-1, n_jobs=-1, probability=True,\n",
       "                           random_state=None, shrinking=False, tol=0.001,\n",
       "                           verbose=False),\n",
       "             iid='deprecated', n_jobs=1,\n",
       "             param_grid=[{'C': [1, 10, 100], 'gamma': [0.01, 0.001],\n",
       "                          'kernel': ['rbf']},\n",
       "                         {'C': [0.1, 1, 10, 100], 'degree': [2, 3, 4],\n",
       "                          'kernel': ['polynomial']}],\n",
       "             pre_dispatch='2*n_jobs', refit=True, return_train_score=False,\n",
       "             scoring=None, verbose=3)"
      ]
     },
     "execution_count": 5,
     "metadata": {
      "tags": []
     },
     "output_type": "execute_result"
    }
   ],
   "source": [
    "param = [{\"kernel\": [\"rbf\"],\"C\": [1, 10, 100],\"gamma\": [1e-2, 1e-3]},{\"kernel\": [\"polynomial\"],\"C\": [0.1, 1, 10, 100],\"degree\": [2, 3, 4]}]\n",
    "svm = SVC(probability=True)\n",
    "svm_gpu = GridSearchCV(svm, param, cv=5,n_jobs=1, verbose=3) # https://scikit-learn.org/stable/modules/generated/sklearn.model_selection.GridSearchCV.html\n",
    "svm_gpu.fit(xTrain, yTrain)"
   ]
  },
  {
   "cell_type": "code",
   "execution_count": 6,
   "metadata": {
    "colab": {
     "base_uri": "https://localhost:8080/",
     "height": 71
    },
    "colab_type": "code",
    "id": "WNEnCjKg3JIy",
    "outputId": "5d37bab6-cfbb-44dd-e091-8548c8138ccb"
   },
   "outputs": [
    {
     "name": "stdout",
     "output_type": "stream",
     "text": [
      "{'C': 1, 'gamma': 0.001, 'kernel': 'rbf'}\n",
      "['mean_fit_time', 'mean_score_time', 'mean_test_score', 'param_C', 'param_degree', 'param_gamma', 'param_kernel', 'params', 'rank_test_score', 'split0_test_score', 'split1_test_score', 'split2_test_score', 'split3_test_score', 'split4_test_score', 'std_fit_time', 'std_score_time', 'std_test_score']\n"
     ]
    }
   ],
   "source": [
    "print(svm_gpu.best_params_) # prints the best combination of parameters\n",
    "print(sorted(svm_gpu.cv_results_.keys())) \n",
    "\n",
    "y_predict=svm_gpu.predict(xTrain)\n",
    "\n",
    "y_predict=svm_gpu.predict(xTest)"
   ]
  },
  {
   "cell_type": "code",
   "execution_count": 0,
   "metadata": {
    "colab": {},
    "colab_type": "code",
    "id": "KTw2aAHD1XGO"
   },
   "outputs": [],
   "source": [
    "def plot_confusion_matrix(y_true, y_pred, classes,\n",
    "                          normalize=False,\n",
    "                          title=None,\n",
    "                          cmap=plt.cm.Blues):\n",
    "    \"\"\"\n",
    "    This function prints and plots the confusion matrix.\n",
    "    Normalization can be applied by setting `normalize=True`.\n",
    "    \"\"\"\n",
    "    if not title:\n",
    "        if normalize:\n",
    "            title = 'Normalized confusion matrix'\n",
    "        else:\n",
    "            title = 'Confusion matrix, without normalization'\n",
    "\n",
    "    # Compute confusion matrix\n",
    "    cm = confusion_matrix(y_true, y_pred)\n",
    "    # Only use the labels that appear in the data\n",
    "    classes = classes[unique_labels(y_true, y_pred)]\n",
    "    if normalize:\n",
    "        cm = cm.astype('float') / cm.sum(axis=1)[:, np.newaxis]\n",
    "        print(\"Normalized confusion matrix\")\n",
    "    else:\n",
    "        print('Confusion matrix, without normalization')\n",
    "\n",
    "#     print(cm)\n",
    "\n",
    "    fig, ax = plt.subplots(figsize=(7,7))\n",
    "    im = ax.imshow(cm, interpolation='nearest', cmap=cmap)\n",
    "    ax.figure.colorbar(im, ax=ax)\n",
    "    # We want to show all ticks...\n",
    "    ax.set(xticks=np.arange(cm.shape[1]),\n",
    "           yticks=np.arange(cm.shape[0]),\n",
    "           # ... and label them with the respective list entries\n",
    "           xticklabels=classes, yticklabels=classes,\n",
    "           title=title,\n",
    "           ylabel='True label',\n",
    "           xlabel='Predicted label')\n",
    "\n",
    "    # Rotate the tick labels and set their alignment.\n",
    "    plt.setp(ax.get_xticklabels(), rotation=45, ha=\"right\",\n",
    "             rotation_mode=\"anchor\")\n",
    "\n",
    "    # Loop over data dimensions and create text annotations.\n",
    "    fmt = '.2f' if normalize else 'd'\n",
    "    thresh = cm.max() / 2.\n",
    "    for i in range(cm.shape[0]):\n",
    "        for j in range(cm.shape[1]):\n",
    "            ax.text(j, i, format(cm[i, j], fmt),\n",
    "                    ha=\"center\", va=\"center\",\n",
    "                    color=\"white\" if cm[i, j] > thresh else \"black\")\n",
    "    fig.tight_layout()\n",
    "    return ax\n",
    "\n"
   ]
  }
 ],
 "metadata": {
  "accelerator": "GPU",
  "colab": {
   "collapsed_sections": [],
   "name": "SVM_GPU",
   "provenance": []
  },
  "kernelspec": {
   "display_name": "Python 3",
   "language": "python",
   "name": "python3"
  },
  "language_info": {
   "codemirror_mode": {
    "name": "ipython",
    "version": 3
   },
   "file_extension": ".py",
   "mimetype": "text/x-python",
   "name": "python",
   "nbconvert_exporter": "python",
   "pygments_lexer": "ipython3",
   "version": "3.7.6"
  }
 },
 "nbformat": 4,
 "nbformat_minor": 1
}
